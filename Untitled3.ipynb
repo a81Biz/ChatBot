{
  "nbformat": 4,
  "nbformat_minor": 0,
  "metadata": {
    "colab": {
      "provenance": [],
      "authorship_tag": "ABX9TyMm3s8tpFj+vspfA517MNdi",
      "include_colab_link": true
    },
    "kernelspec": {
      "name": "python3",
      "display_name": "Python 3"
    },
    "language_info": {
      "name": "python"
    }
  },
  "cells": [
    {
      "cell_type": "markdown",
      "metadata": {
        "id": "view-in-github",
        "colab_type": "text"
      },
      "source": [
        "<a href=\"https://colab.research.google.com/github/a81Biz/ChatBot/blob/master/Untitled3.ipynb\" target=\"_parent\"><img src=\"https://colab.research.google.com/assets/colab-badge.svg\" alt=\"Open In Colab\"/></a>"
      ]
    },
    {
      "cell_type": "code",
      "source": [
        "!pip install openai\n",
        "!pip install llama-index\n",
        "!pip install langchain\n",
        "!pip install docx2txt"
      ],
      "metadata": {
        "id": "gRcKMr5s3BF_"
      },
      "execution_count": null,
      "outputs": []
    },
    {
      "cell_type": "code",
      "execution_count": 3,
      "metadata": {
        "id": "SsaBzGP42QHc"
      },
      "outputs": [],
      "source": [
        "import os\n",
        "import openai\n",
        "from llama_index import GPTVectorStoreIndex, SimpleDirectoryReader, LLMPredictor, ServiceContext\n",
        "from langchain.chat_models import ChatOpenAI\n",
        "import pickle\n",
        "import textwrap"
      ]
    },
    {
      "cell_type": "code",
      "source": [
        "#key de API OpenAi\n",
        "os.environ[\"OPENAI_API_KEY\"] = 'xxx'"
      ],
      "metadata": {
        "id": "ZjTHJlc72UGV"
      },
      "execution_count": 4,
      "outputs": []
    },
    {
      "cell_type": "code",
      "source": [
        "#Leer los el contenido\n",
        "data = SimpleDirectoryReader('./docs').load_data()\n",
        "\n",
        "#Definir e instanciar el modelo\n",
        "modelo = LLMPredictor(llm=ChatOpenAI(temperature=0, model_name='gpt-3.5-turbo', max_tokens=256))\n",
        "\n",
        "#Indexar el contenido de los la data\n",
        "service_context = ServiceContext.from_defaults(llm_predictor=modelo)\n"
      ],
      "metadata": {
        "colab": {
          "base_uri": "https://localhost:8080/"
        },
        "id": "HrVBT9eH2Vvy",
        "outputId": "b529d25a-fcab-4989-a3bf-9c2bdc1bc6dd"
      },
      "execution_count": 5,
      "outputs": [
        {
          "output_type": "stream",
          "name": "stderr",
          "text": [
            "WARNING:llama_index.llm_predictor.base:Unknown max input size for gpt-3.5-turbo, using defaults.\n"
          ]
        }
      ]
    },
    {
      "cell_type": "code",
      "source": [
        "# Guardar la data disco\n",
        "with open('data_docs.pkl', 'wb') as f:\n",
        "    pickle.dump(data, f)"
      ],
      "metadata": {
        "id": "aB9YB7HT2nUU"
      },
      "execution_count": 6,
      "outputs": []
    },
    {
      "cell_type": "code",
      "source": [
        "# Cargar los documentos\n",
        "with open('data_docs.pkl', 'rb') as f:\n",
        "    data = pickle.load(f)"
      ],
      "metadata": {
        "id": "oYK-tPLi2oVu"
      },
      "execution_count": 7,
      "outputs": []
    },
    {
      "cell_type": "code",
      "source": [
        "# Reconstruir el índice utilizando los documentos cargados\n",
        "index = GPTVectorStoreIndex.from_documents(data, service_context=service_context)\n"
      ],
      "metadata": {
        "id": "gbekBDFu2qEP"
      },
      "execution_count": 8,
      "outputs": []
    },
    {
      "cell_type": "code",
      "source": [
        "pregunta = input('Escribe tu pregunta:\\n') + \"Responde en español\"\n",
        "respuesta = index.as_query_engine().query(pregunta)"
      ],
      "metadata": {
        "colab": {
          "base_uri": "https://localhost:8080/"
        },
        "id": "zCHygZXT2t7v",
        "outputId": "e6136ac1-8c8a-4da6-c89d-f08ab5910c7a"
      },
      "execution_count": 12,
      "outputs": [
        {
          "name": "stdout",
          "output_type": "stream",
          "text": [
            "Escribe tu pregunta:\n",
            "¿Cuál es la configuración de memoria asignada a la aplicación sar_ear_fidex-3.3.0?\n"
          ]
        }
      ]
    },
    {
      "cell_type": "code",
      "source": [
        "if respuesta.response is not None:\n",
        "    for frase in textwrap.wrap(respuesta.response, width=100):\n",
        "        print(frase)\n",
        "else:\n",
        "    print(\"No se encontró una respuesta para la pregunta proporcionada.\")"
      ],
      "metadata": {
        "colab": {
          "base_uri": "https://localhost:8080/"
        },
        "id": "UCdi5ufo2vQu",
        "outputId": "c4411036-a366-4f9d-eaff-5bc7cceeb357"
      },
      "execution_count": 13,
      "outputs": [
        {
          "output_type": "stream",
          "name": "stdout",
          "text": [
            "La configuración de memoria asignada a la aplicación sar_ear_fidex-3.3.0 es de -Xms2048m -Xmx2048m.\n"
          ]
        }
      ]
    }
  ]
}
